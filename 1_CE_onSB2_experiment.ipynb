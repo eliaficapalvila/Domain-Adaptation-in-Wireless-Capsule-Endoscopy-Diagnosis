{
 "cells": [
  {
   "cell_type": "markdown",
   "metadata": {},
   "source": [
    "# Experiment 1\n",
    "\n",
    "### Master's Thesis:  Domain Adaptation in Wireless Capsule Endoscopy Diagnosis\n",
    "\n",
    "#### Author: Èlia FICAPAL VILA\n",
    "\n",
    "#### Supervisor:  Dr. Santi SEGUÍ"
   ]
  },
  {
   "cell_type": "markdown",
   "metadata": {},
   "source": [
    "* Model: ResNet with Cross-Entropy Loss\n",
    "* Trained with: PillCam SB2 images\n",
    "* Testing on: PillCam SB2 images"
   ]
  },
  {
   "cell_type": "markdown",
   "metadata": {},
   "source": [
    "The second approach consists of a ResNet stacked with a dense layer. The ResNet is used in order to extract the main features to create a rich vector representation of a given size of each image, the embedding. More specifically, the 50-layer ResNet pretrained on ImageNet is considered. \n",
    "\n",
    "Once the embedding is computed, it is fed to the dense layer, which will have as many units as number of classes. It ouputs the scores of belonging to each of the classes which, in turn, can be converted into probabilities applying a softmax function. In order to measure the performance of the classification model and then optimise the parameters, the cross-entropy loss is used. \n",
    "\n",
    "Moreover, L2-regularisation is used to prevent overfitting. \n",
    "\n",
    "The following image shows the general pipeline.\n",
    "\n",
    "\n",
    "\n",
    "![alt text](images/CE_model.png \"Title\")\n",
    "\n",
    "\n",
    "\n",
    "The model is trained and tested using images obtained from PillCam SB2. The training and test datasets are composed of 2000 and 100 images per class, respectively.\n",
    "\n",
    "In this notebook it is shown how to train and evaluate the model. Also, some results ready to be analysed are plotted in the end."
   ]
  },
  {
   "cell_type": "code",
   "execution_count": 1,
   "metadata": {},
   "outputs": [],
   "source": [
    "#Libraries\n",
    "\n",
    "import tensorflow as tf\n",
    "import numpy as np\n",
    "import random\n",
    "import os\n",
    "import pickle\n",
    "import pandas as pd\n",
    "\n",
    "import matplotlib.pyplot as plt\n",
    "%matplotlib inline"
   ]
  },
  {
   "cell_type": "markdown",
   "metadata": {},
   "source": [
    "## Selecting the parameters\n",
    "\n",
    "First, we give values to the parameters. The majority of parameters will stay the same for all the experiments (such as the image shape, the optimiser, the learning rate, etc.). However, there are other values that should be modified.\n",
    "\n",
    "In this case, we will:\n",
    "* use 2000 SB2 images per class for training $\\Longrightarrow$ params['train-csize-SB2']=2000\n",
    "* use 100 SB2 images per class for testing $\\Longrightarrow$ params['eval-csize-SB2']=100\n",
    "* use 0 SB3 images per class for training $\\Longrightarrow$ params['train-csize-SB3']=0\n",
    "* use 0 SB2 images per class for testing $\\Longrightarrow$ params['eval-csize-SB3']=0\n",
    "* test on SB2 images $\\Longrightarrow$ params['eval']='SB2'\n",
    "* not include the triplet loss $\\Longrightarrow$ params['include-triplet-loss']=False\n",
    "\n",
    "Since we want to use the ResNet pretrained on ImageNet, we would have to specify the containing including the checkpoints in params['warm-dir'] and also change params['warm-dir-short'] so that it can be included in the name of the directory."
   ]
  },
  {
   "cell_type": "code",
   "execution_count": 2,
   "metadata": {},
   "outputs": [],
   "source": [
    "params = {\n",
    "    \n",
    "#Parameters for the reader\n",
    "    'train-csize-SB2' : 2000,\n",
    "    'eval-csize-SB2' : 100,\n",
    "    'train-csize-SB3' : 0,\n",
    "    'eval-csize-SB3' : 0,\n",
    "    'eval' : 'SB2', #can be SB2 or SB3\n",
    "    \n",
    "# Parser parameters\n",
    "    'image-shape' : (256,256,3), \n",
    "\n",
    "# Optimizer parameters \n",
    "    'optimizer': 'SGD', #Adagrad, Adam, SGD, MomentumOptimizer\n",
    "    'learning-rate': 1e-4,\n",
    "\n",
    "# Embedding parameters\n",
    "    'embedding-size': 2048,\n",
    "\n",
    "# Model\n",
    "    'resnet-size' : 50,\n",
    "    'num-classes' : 7,\n",
    "    'train-only-last-layer' : True,\n",
    "    'include-classifier': True,\n",
    "\n",
    "# Losses\n",
    "    'cross-entropy': True,\n",
    "    'include-triplet-loss': False,\n",
    "    'triplet-strategy': \"batch-all\", # batch-all, batch-hard, mixed\n",
    "    'triplet-margin-strategy' : 'hinge-margin', # 'hing-margin, soft-margin\n",
    "    'triplet-distance': 'euclid', # euclid, cosine\n",
    "    'margin' : 0.2,\n",
    "    'include-l2-loss': True,\n",
    "    'weight-decay': 2e-4, \n",
    "\n",
    "\n",
    "# Sumaries\n",
    "    'with-scalars': True,\n",
    "    'with-histograms': False,\n",
    "    'with-images': False,\n",
    "\n",
    "# Run Model\n",
    "    'shuffle' : False,\n",
    "    'batch-size': 64, \n",
    "    'delete-existing': False, \n",
    "    'warm-dir': None,\n",
    "    'warm-dir-short': 'None', ##TL, noTL or None\n",
    "    'prefetch': 64,\n",
    "    'train-epochs': 1,  \n",
    "    'eval-epochs': 1, \n",
    "    \n",
    "#Others    \n",
    "    'gpu' : '/gpu:1',\n",
    "    'save-summary-steps' : 50,\n",
    "    \n",
    "# Eval Model\n",
    "    'fetch-tensors': ['confusion_matrix','embeddings','predictions','labels','probabilities']   \n",
    "}"
   ]
  },
  {
   "cell_type": "markdown",
   "metadata": {},
   "source": [
    "The directory where everything in the model will be saved is defined as follows."
   ]
  },
  {
   "cell_type": "code",
   "execution_count": 3,
   "metadata": {},
   "outputs": [],
   "source": [
    "if params['include-triplet-loss']:\n",
    "    params['model-dir'] = 'experiments/SB2{}-{}_SB3{}-{}_BS{}_emb{}_LR{}_{}_{}_marg{}_WD{}'.format(params['train-csize-SB2'],params['eval-csize-SB2'],\n",
    "                                                                                                    params['train-csize-SB3'],params['eval-csize-SB3'],\n",
    "                                                                                                    params['batch-size'],params['embedding-size'],\n",
    "                                                                                                    params['learning-rate'], params['optimizer'],\n",
    "                                                                                                    params['triplet-strategy'],\n",
    "                                                                                                    params['margin'],params['warm-dir-short'])\n",
    "else:\n",
    "    params['model-dir'] = 'experiments/SB2{}-{}_SB3{}-{}_BS{}_emb{}_LR{}_{}_WD{}'.format(params['train-csize-SB2'],params['eval-csize-SB2'],\n",
    "                                                                                         params['train-csize-SB3'],params['eval-csize-SB3'],\n",
    "                                                                                         params['batch-size'],params['embedding-size'],\n",
    "                                                                                         params['learning-rate'], params['optimizer'],\n",
    "                                                                                         params['warm-dir-short'])"
   ]
  },
  {
   "cell_type": "code",
   "execution_count": 4,
   "metadata": {},
   "outputs": [
    {
     "name": "stdout",
     "output_type": "stream",
     "text": [
      "experiments/SB22000-100_SB30-0_BS64_emb2048_LR0.0001_SGD_WDNone\n"
     ]
    }
   ],
   "source": [
    "print(params['model-dir'])"
   ]
  },
  {
   "cell_type": "markdown",
   "metadata": {},
   "source": [
    "## The reader\n",
    "\n",
    "Using the selected parameters, the reader is used to read data and to define generators for the training and test datasets."
   ]
  },
  {
   "cell_type": "code",
   "execution_count": 5,
   "metadata": {},
   "outputs": [
    {
     "data": {
      "application/vnd.jupyter.widget-view+json": {
       "model_id": "d3a8c7f173434e439e0ecdf6ede0e723",
       "version_major": 2,
       "version_minor": 0
      },
      "text/plain": [
       "HBox(children=(IntProgress(value=1, bar_style='info', max=1), HTML(value='')))"
      ]
     },
     "metadata": {},
     "output_type": "display_data"
    },
    {
     "name": "stdout",
     "output_type": "stream",
     "text": [
      "\n"
     ]
    },
    {
     "data": {
      "application/vnd.jupyter.widget-view+json": {
       "model_id": "d382ebde68c34636b84d8c84e58c41ef",
       "version_major": 2,
       "version_minor": 0
      },
      "text/plain": [
       "HBox(children=(IntProgress(value=1, bar_style='info', max=1), HTML(value='')))"
      ]
     },
     "metadata": {},
     "output_type": "display_data"
    },
    {
     "name": "stdout",
     "output_type": "stream",
     "text": [
      "\n",
      "Training samples: 14000 Testing samples: 700\n"
     ]
    }
   ],
   "source": [
    "from model.reader import SB2_SB3_reader\n",
    "\n",
    "reader = SB2_SB3_reader(train_images_SB2 = params['train-csize-SB2'],\n",
    "                             test_images_SB2=params['eval-csize-SB2'],\n",
    "                             train_images_SB3 = params['train-csize-SB3'],\n",
    "                             eval_on = params['eval'],\n",
    "                             batch_size=params['batch-size'],\n",
    "                             shape = params['image-shape'])\n",
    "\n",
    "reader.define_train_test_SB2(42) #split images from intestins into train and test\n",
    "\n",
    "params['train-num-samples'] = len(reader.train_key_SB2) + len(reader.SB3_train) #number of training images\n",
    "params['num-samples'] = len(reader.test_key_SB2) + len(reader.SB3_test) #number of testing images\n",
    "print(\"Training samples:\",params['train-num-samples'], \"Testing samples:\",params['num-samples'])"
   ]
  },
  {
   "cell_type": "markdown",
   "metadata": {},
   "source": [
    "## The model\n",
    "\n",
    "The neural network is defined using both the selected parameters and the reader that has been just defined."
   ]
  },
  {
   "cell_type": "code",
   "execution_count": 8,
   "metadata": {},
   "outputs": [],
   "source": [
    "from model.network import Network\n",
    "\n",
    "net = Network(params, reader)"
   ]
  },
  {
   "cell_type": "markdown",
   "metadata": {},
   "source": [
    "## Training the model\n",
    "\n",
    "The model trains using the following command performing a certain number of epochs defined in params['train-epochs']. If there is already one model with the same directory name, it can recover that model and start training using its weights.\n",
    "\n",
    "It also evaluates the model every a certain number of epochs, which is defined in params['eval-epochs]."
   ]
  },
  {
   "cell_type": "code",
   "execution_count": 9,
   "metadata": {},
   "outputs": [
    {
     "name": "stdout",
     "output_type": "stream",
     "text": [
      "experiments/SB22000-100_SB30-0_BS64_emb2048_LR0.0001_SGD_WDNone\n",
      "Target model directory: experiments/SB22000-100_SB30-0_BS64_emb2048_LR0.0001_SGD_WDNone\n",
      "INFO:tensorflow:Using config: {'_model_dir': 'experiments/SB22000-100_SB30-0_BS64_emb2048_LR0.0001_SGD_WDNone', '_tf_random_seed': None, '_save_summary_steps': 100, '_save_checkpoints_steps': None, '_save_checkpoints_secs': 1000000000.0, '_session_config': gpu_options {\n",
      "  allow_growth: true\n",
      "}\n",
      "allow_soft_placement: true\n",
      "log_device_placement: true\n",
      ", '_keep_checkpoint_max': 5, '_keep_checkpoint_every_n_hours': 10000, '_log_step_count_steps': 100, '_train_distribute': None, '_device_fn': None, '_protocol': None, '_eval_distribute': None, '_experimental_distribute': None, '_service': None, '_cluster_spec': <tensorflow.python.training.server_lib.ClusterSpec object at 0x7f977d0492e8>, '_task_type': 'worker', '_task_id': 0, '_global_id_in_cluster': 0, '_master': '', '_evaluation_master': '', '_is_chief': True, '_num_ps_replicas': 0, '_num_worker_replicas': 1}\n"
     ]
    },
    {
     "data": {
      "application/vnd.jupyter.widget-view+json": {
       "model_id": "c0c0f5118a2041c29d8d89b1531e8378",
       "version_major": 2,
       "version_minor": 0
      },
      "text/plain": [
       "HBox(children=(IntProgress(value=0, max=1), HTML(value='')))"
      ]
     },
     "metadata": {},
     "output_type": "display_data"
    },
    {
     "data": {
      "application/vnd.jupyter.widget-view+json": {
       "model_id": "1112dee5ce2e4894a16fa15cebf845b5",
       "version_major": 2,
       "version_minor": 0
      },
      "text/plain": [
       "HBox(children=(IntProgress(value=1, bar_style='info', max=1), HTML(value='')))"
      ]
     },
     "metadata": {},
     "output_type": "display_data"
    },
    {
     "name": "stdout",
     "output_type": "stream",
     "text": [
      "iterating...\n"
     ]
    },
    {
     "name": "stderr",
     "output_type": "stream",
     "text": [
      "/opt/anaconda/lib/python3.6/site-packages/skimage/transform/_warps.py:110: UserWarning: Anti-aliasing will be enabled by default in skimage 0.15 to avoid aliasing artifacts when down-sampling images.\n",
      "  warn(\"Anti-aliasing will be enabled by default in skimage 0.15 to \"\n"
     ]
    },
    {
     "data": {
      "application/vnd.jupyter.widget-view+json": {
       "model_id": "",
       "version_major": 2,
       "version_minor": 0
      },
      "text/plain": [
       "HBox(children=(IntProgress(value=0, max=1), HTML(value='')))"
      ]
     },
     "metadata": {},
     "output_type": "display_data"
    },
    {
     "data": {
      "application/vnd.jupyter.widget-view+json": {
       "model_id": "",
       "version_major": 2,
       "version_minor": 0
      },
      "text/plain": [
       "HBox(children=(IntProgress(value=1, bar_style='info', max=1), HTML(value='')))"
      ]
     },
     "metadata": {},
     "output_type": "display_data"
    }
   ],
   "source": [
    "net.run_model(wait = True, save_results = False)  \n",
    "#For creating this notebook, only one epoch has been performed."
   ]
  },
  {
   "cell_type": "markdown",
   "metadata": {},
   "source": [
    "## Evaluating the model\n",
    "\n",
    "The following command is used in order to evaluate the model on the test dataset and obtain the results specified in params['fetch-tensors']."
   ]
  },
  {
   "cell_type": "code",
   "execution_count": 10,
   "metadata": {},
   "outputs": [
    {
     "name": "stdout",
     "output_type": "stream",
     "text": [
      "experiments/SB22000-100_SB30-0_BS64_emb2048_LR0.0001_SGD_WDNone\n",
      "Found candidate model at: experiments/SB22000-100_SB30-0_BS64_emb2048_LR0.0001_SGD_WDNone\n",
      "Target model directory: experiments/SB22000-100_SB30-0_BS64_emb2048_LR0.0001_SGD_WDNone\n"
     ]
    },
    {
     "data": {
      "application/vnd.jupyter.widget-view+json": {
       "model_id": "92085c3c7fce47b58ca746f5e6dc6f55",
       "version_major": 2,
       "version_minor": 0
      },
      "text/plain": [
       "HBox(children=(IntProgress(value=0, max=1), HTML(value='')))"
      ]
     },
     "metadata": {},
     "output_type": "display_data"
    },
    {
     "data": {
      "application/vnd.jupyter.widget-view+json": {
       "model_id": "9808e823cc17486e9149a8b0dd8fc57d",
       "version_major": 2,
       "version_minor": 0
      },
      "text/plain": [
       "HBox(children=(IntProgress(value=1, bar_style='info', max=1), HTML(value='')))"
      ]
     },
     "metadata": {},
     "output_type": "display_data"
    },
    {
     "name": "stderr",
     "output_type": "stream",
     "text": [
      "/opt/anaconda/lib/python3.6/site-packages/skimage/transform/_warps.py:110: UserWarning: Anti-aliasing will be enabled by default in skimage 0.15 to avoid aliasing artifacts when down-sampling images.\n",
      "  warn(\"Anti-aliasing will be enabled by default in skimage 0.15 to \"\n"
     ]
    },
    {
     "data": {
      "text/plain": [
       "<SenseTheFlow.async.execution_wrapper.ExecutionWrapper at 0x7f97511e90b8>"
      ]
     },
     "execution_count": 10,
     "metadata": {},
     "output_type": "execute_result"
    }
   ],
   "source": [
    "net.eval_model(save_results = True) "
   ]
  },
  {
   "cell_type": "markdown",
   "metadata": {},
   "source": [
    "Uncomment the following command to save the results using pickle."
   ]
  },
  {
   "cell_type": "code",
   "execution_count": 11,
   "metadata": {},
   "outputs": [],
   "source": [
    "#pickle.dump(net.results, open( \"res_experiments/res_{}-{}_{}-{}_noTL.p\".format(params['train-csize-SB2'],params['eval-csize-SB2'],\n",
    "#                                                                      params['train-csize-SB3'],params['eval-csize-SB3']),\n",
    "#                                                                      \"wb\" ) )"
   ]
  },
  {
   "cell_type": "markdown",
   "metadata": {},
   "source": [
    "## Analysing the results\n",
    "\n",
    "The following cells will be used to analyse the results obtained from evaluating our model in the test dataset. "
   ]
  },
  {
   "cell_type": "markdown",
   "metadata": {},
   "source": [
    "First of all, the results that we previously saved from our trained model are uploaded using pickle from the \"res_experiments\" folder."
   ]
  },
  {
   "cell_type": "code",
   "execution_count": 12,
   "metadata": {},
   "outputs": [],
   "source": [
    "name='res_{}-{}_{}-{}_noTL'.format(params['train-csize-SB2'],params['eval-csize-SB2'],\n",
    "                                    params['train-csize-SB3'],params['eval-csize-SB3'])\n",
    "net_results = pickle.load(open( \"res_experiments/{}.p\".format(name), \"rb\" ) )"
   ]
  },
  {
   "cell_type": "markdown",
   "metadata": {},
   "source": [
    "The following command is used to build a Python class that will be used to plot the results."
   ]
  },
  {
   "cell_type": "code",
   "execution_count": 13,
   "metadata": {},
   "outputs": [],
   "source": [
    "from model.results import get_results\n",
    "\n",
    "res = get_results(net_results)"
   ]
  },
  {
   "cell_type": "markdown",
   "metadata": {},
   "source": [
    "### 1) Normalised confusion matrix\n",
    "\n",
    "The normalised confusion matrix $M = (m_{i,j})_{1 \\leq i,j \\leq 7}$ that will be plotted has elements defined as $$m_{i,j} = 100 \\frac{Pj}{R_i},$$ where $P_j$ is the number of images classified by the model as class $j$, whereas $R_i$ is the number of actual images belonging to class $i$. \n",
    "\n",
    "The classes correspond to:"
   ]
  },
  {
   "cell_type": "code",
   "execution_count": 14,
   "metadata": {},
   "outputs": [
    {
     "data": {
      "text/html": [
       "<div>\n",
       "<style scoped>\n",
       "    .dataframe tbody tr th:only-of-type {\n",
       "        vertical-align: middle;\n",
       "    }\n",
       "\n",
       "    .dataframe tbody tr th {\n",
       "        vertical-align: top;\n",
       "    }\n",
       "\n",
       "    .dataframe thead th {\n",
       "        text-align: right;\n",
       "    }\n",
       "</style>\n",
       "<table border=\"1\" class=\"dataframe\">\n",
       "  <thead>\n",
       "    <tr style=\"text-align: right;\">\n",
       "      <th></th>\n",
       "      <th>Class</th>\n",
       "    </tr>\n",
       "    <tr>\n",
       "      <th>i,j</th>\n",
       "      <th></th>\n",
       "    </tr>\n",
       "  </thead>\n",
       "  <tbody>\n",
       "    <tr>\n",
       "      <th>1</th>\n",
       "      <td>Bubbles</td>\n",
       "    </tr>\n",
       "    <tr>\n",
       "      <th>2</th>\n",
       "      <td>Clear Blob</td>\n",
       "    </tr>\n",
       "    <tr>\n",
       "      <th>3</th>\n",
       "      <td>Dilated</td>\n",
       "    </tr>\n",
       "    <tr>\n",
       "      <th>4</th>\n",
       "      <td>Turbid</td>\n",
       "    </tr>\n",
       "    <tr>\n",
       "      <th>5</th>\n",
       "      <td>Undefined</td>\n",
       "    </tr>\n",
       "    <tr>\n",
       "      <th>6</th>\n",
       "      <td>Wall</td>\n",
       "    </tr>\n",
       "    <tr>\n",
       "      <th>7</th>\n",
       "      <td>Wrinkle</td>\n",
       "    </tr>\n",
       "  </tbody>\n",
       "</table>\n",
       "</div>"
      ],
      "text/plain": [
       "          Class\n",
       "i,j            \n",
       "1       Bubbles\n",
       "2    Clear Blob\n",
       "3       Dilated\n",
       "4        Turbid\n",
       "5     Undefined\n",
       "6          Wall\n",
       "7       Wrinkle"
      ]
     },
     "execution_count": 14,
     "metadata": {},
     "output_type": "execute_result"
    }
   ],
   "source": [
    "ij = [1,2,3,4,5,6,7]\n",
    "classes = ['Bubbles','Clear Blob','Dilated','Turbid','Undefined','Wall','Wrinkle']\n",
    "df = pd.DataFrame(data={'i,j':ij,'Class':classes},index=None).set_index('i,j')\n",
    "df"
   ]
  },
  {
   "cell_type": "code",
   "execution_count": 15,
   "metadata": {},
   "outputs": [
    {
     "name": "stdout",
     "output_type": "stream",
     "text": [
      "Normalised confusion matrix:\n",
      "\n",
      "[[94.  0.  0.  5.  1.  0.  0.]\n",
      " [ 0. 84.  1.  4.  6.  2.  3.]\n",
      " [ 0.  6. 88.  1.  4.  1.  0.]\n",
      " [ 3.  4.  1. 91.  1.  0.  0.]\n",
      " [ 0.  8.  4.  1. 75. 10.  2.]\n",
      " [ 0.  0.  0.  1.  4. 92.  3.]\n",
      " [ 0.  3.  0.  0.  4.  3. 90.]]\n"
     ]
    }
   ],
   "source": [
    "print(\"Normalised confusion matrix:\\n\")\n",
    "print(100*res.confusion_matrix_norm.round(4))"
   ]
  },
  {
   "cell_type": "markdown",
   "metadata": {},
   "source": [
    "### 2) Plot using different colours\n",
    "\n",
    "Once the embeddings of the images in the test dataset are obtained by the model, their dimensionality can be reduced using Uniform Manifold Approximation and Projection (UMAP) to two-dimensional vectors. However, it is important to remark that these vectors are just a projection and thus not nearly all the information is included. Actually, if the embedding size is 2048, this means that 2046 components are lost.\n",
    "\n",
    "The following chart is a scatter plot using a different colour per class and a different marker if the classification is right or wrong. The dot indicates that the image has been correctly classfied, and the cross otherwise."
   ]
  },
  {
   "cell_type": "code",
   "execution_count": 16,
   "metadata": {},
   "outputs": [
    {
     "data": {
      "image/png": "[encoded data removed]",
      "text/plain": [
       "<Figure size 432x432 with 1 Axes>"
      ]
     },
     "metadata": {
      "needs_background": "light"
     },
     "output_type": "display_data"
    }
   ],
   "source": [
    "res.plot_colours(save=False,legend=True,filename=\"colours_{}\".format(name))"
   ]
  },
  {
   "cell_type": "markdown",
   "metadata": {},
   "source": [
    "### 3) Plot using images\n",
    "\n",
    "Again, the UMAP projections of the embeddings are used. In this case, the markers are the actual images. The previous plot can be used to know to which class belongs each image. \n",
    "\n",
    "This chart helps to visually identify which features the model uses to match an image with a label."
   ]
  },
  {
   "cell_type": "code",
   "execution_count": 17,
   "metadata": {},
   "outputs": [
    {
     "data": {
      "application/vnd.jupyter.widget-view+json": {
       "model_id": "6b5c3921ba044d09844d1337018a070d",
       "version_major": 2,
       "version_minor": 0
      },
      "text/plain": [
       "HBox(children=(IntProgress(value=1, bar_style='info', max=1), HTML(value='')))"
      ]
     },
     "metadata": {},
     "output_type": "display_data"
    },
    {
     "data": {
      "image/png": "[encoded data removed]",
      "text/plain": [
       "<Figure size 432x432 with 1 Axes>"
      ]
     },
     "metadata": {
      "needs_background": "light"
     },
     "output_type": "display_data"
    }
   ],
   "source": [
    "res.plot_images(save=False,\n",
    "                eval_on=params['eval'],train_size=params['train-csize-SB2'],test_size=params['eval-csize-SB2'],\n",
    "                filename=\"images_{}\".format(name))"
   ]
  },
  {
   "cell_type": "code",
   "execution_count": null,
   "metadata": {},
   "outputs": [],
   "source": []
  }
 ],
 "metadata": {
  "kernelspec": {
   "display_name": "Python 3",
   "language": "python",
   "name": "python3"
  },
  "language_info": {
   "codemirror_mode": {
    "name": "ipython",
    "version": 3
   },
   "file_extension": ".py",
   "mimetype": "text/x-python",
   "name": "python",
   "nbconvert_exporter": "python",
   "pygments_lexer": "ipython3",
   "version": "3.6.6"
  }
 },
 "nbformat": 4,
 "nbformat_minor": 2
}
